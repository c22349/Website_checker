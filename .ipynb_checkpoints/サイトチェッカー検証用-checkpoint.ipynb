{
 "cells": [
  {
   "cell_type": "code",
   "execution_count": 2,
   "id": "7136880f",
   "metadata": {},
   "outputs": [],
   "source": [
    "import os\n",
    "import json\n",
    "import requests\n",
    "import boto3\n",
    "from urllib.parse import urlparse\n",
    "from bs4 import BeautifulSoup"
   ]
  },
  {
   "cell_type": "code",
   "execution_count": 2,
   "id": "153c56bf",
   "metadata": {},
   "outputs": [],
   "source": [
    "import boto3\n",
    "import botocore"
   ]
  },
  {
   "cell_type": "code",
   "execution_count": null,
   "id": "0d3737da",
   "metadata": {},
   "outputs": [],
   "source": [
    "line_token = \"6W8Ehp4CFxbV6k8VlgyKdPhoX547Q99aOT1FmElMsts\"\n",
    "line_url = \"https://notify-api.line.me/api/notify\""
   ]
  },
  {
   "cell_type": "code",
   "execution_count": null,
   "id": "80f652f2",
   "metadata": {},
   "outputs": [],
   "source": [
    " def check_website(url):\n",
    "    try:\n",
    "        response = requests.get(url)\n",
    "        if response.status_code == 200:\n",
    "            return True, None\n",
    "        else:\n",
    "            return False, f\"Status code: {response.status_code}\"\n",
    "    except Exception as e:\n",
    "        return False, str(e)"
   ]
  },
  {
   "cell_type": "code",
   "execution_count": null,
   "id": "2cd4001c",
   "metadata": {},
   "outputs": [],
   "source": [
    "def check_ssl(url):\n",
    "    try:\n",
    "        parsed_url = urlparse(url)\n",
    "        response = requests.get(f'https://{parsed_url.netloc}', verify=True)\n",
    "        if response.status_code == 200:\n",
    "            return True\n",
    "        else:\n",
    "            return False\n",
    "    except Exception as e:\n",
    "        return False"
   ]
  },
  {
   "cell_type": "code",
   "execution_count": null,
   "id": "33158828",
   "metadata": {},
   "outputs": [],
   "source": [
    "def lambda_handler(event, context):\n",
    "    line_token = os.environ[\"LINE_TOKEN\"]\n",
    "    websites = [\n",
    "        \"https://example.com\",\n",
    "        \"https://brasil-futsal.com\",\n",
    "        \"https://exam333.com\"\n",
    "    ]\n",
    "\n",
    "    for url in websites:\n",
    "        is_accessible, error = check_website(url)\n",
    "        is_ssl_valid = check_ssl(url)\n",
    "\n",
    "        if not is_accessible:\n",
    "            message = f\"ウェブサイト '{url}' にアクセスできませんでした。 エラー: {error}\"\n",
    "            send_line_notification(line_token, message)\n",
    "\n",
    "        if not is_ssl_valid:\n",
    "            message = f\"ウェブサイト '{url}' のSSL証明書が無効です。\"\n",
    "            send_line_notification(line_token, message)\n",
    "\n",
    "    return {\n",
    "        'statusCode': 200,\n",
    "        'body': json.dumps('ウェブサイトのチェックが完了しました。')\n",
    "    }"
   ]
  },
  {
   "cell_type": "code",
   "execution_count": null,
   "id": "9536223b",
   "metadata": {},
   "outputs": [],
   "source": [
    "def send_line_notify(token, message):\n",
    "    auth = {\"Authorization\": f\"Bearer {token}\"}\n",
    "    content = {\"message\": message}\n",
    "    response = requests.post('https://notify-api.line.me/api/notify', headers=auth, data=content)\n",
    "    return response.status_code"
   ]
  },
  {
   "cell_type": "code",
   "execution_count": null,
   "id": "b50abac5",
   "metadata": {},
   "outputs": [],
   "source": []
  },
  {
   "cell_type": "code",
   "execution_count": null,
   "id": "4f6cda43",
   "metadata": {},
   "outputs": [],
   "source": []
  },
  {
   "cell_type": "code",
   "execution_count": null,
   "id": "c2a85916",
   "metadata": {},
   "outputs": [],
   "source": []
  },
  {
   "cell_type": "code",
   "execution_count": null,
   "id": "06b17534",
   "metadata": {},
   "outputs": [],
   "source": []
  },
  {
   "cell_type": "code",
   "execution_count": null,
   "id": "cd85a764",
   "metadata": {},
   "outputs": [],
   "source": [
    "# チェックするWebサイトのリスト\n",
    "urls = [\"https://example.com\", \"https://brasil-futsal.com\", \"https://exam333.com\"]"
   ]
  },
  {
   "cell_type": "code",
   "execution_count": null,
   "id": "cc935cd3",
   "metadata": {},
   "outputs": [],
   "source": [
    "def check_website(url):\n",
    "    try:\n",
    "        response = requests.get(url, timeout=10)\n",
    "        ssl_enabled = response.url.startswith('https://')\n",
    "        return response.status_code, ssl_enabled\n",
    "    except requests.exceptions.RequestException:\n",
    "        return None, None"
   ]
  },
  {
   "cell_type": "code",
   "execution_count": null,
   "id": "3b0011e7",
   "metadata": {},
   "outputs": [],
   "source": [
    "url = \"https://exam333.com\"\n",
    "check_website(url)"
   ]
  },
  {
   "cell_type": "code",
   "execution_count": null,
   "id": "7b02dfeb",
   "metadata": {},
   "outputs": [],
   "source": []
  },
  {
   "cell_type": "code",
   "execution_count": null,
   "id": "a139c165",
   "metadata": {},
   "outputs": [],
   "source": []
  },
  {
   "cell_type": "code",
   "execution_count": null,
   "id": "01d92e2a",
   "metadata": {},
   "outputs": [],
   "source": []
  },
  {
   "cell_type": "code",
   "execution_count": null,
   "id": "117440b4",
   "metadata": {},
   "outputs": [],
   "source": []
  },
  {
   "cell_type": "code",
   "execution_count": null,
   "id": "bec5014b",
   "metadata": {},
   "outputs": [],
   "source": []
  },
  {
   "cell_type": "code",
   "execution_count": null,
   "id": "a1370f83",
   "metadata": {},
   "outputs": [],
   "source": []
  },
  {
   "cell_type": "code",
   "execution_count": null,
   "id": "c02f9f87",
   "metadata": {},
   "outputs": [],
   "source": [
    "response = requests.get(url, timeout=10)\n",
    "ssl_enabled = response.url.startswith('https://')"
   ]
  },
  {
   "cell_type": "code",
   "execution_count": null,
   "id": "698ef007",
   "metadata": {},
   "outputs": [],
   "source": []
  },
  {
   "cell_type": "code",
   "execution_count": null,
   "id": "d51e66fe",
   "metadata": {},
   "outputs": [],
   "source": []
  },
  {
   "cell_type": "code",
   "execution_count": null,
   "id": "48cb4e26",
   "metadata": {},
   "outputs": [],
   "source": []
  },
  {
   "cell_type": "code",
   "execution_count": null,
   "id": "37f3c5c7",
   "metadata": {},
   "outputs": [],
   "source": []
  },
  {
   "cell_type": "code",
   "execution_count": null,
   "id": "203086a7",
   "metadata": {},
   "outputs": [],
   "source": []
  },
  {
   "cell_type": "code",
   "execution_count": null,
   "id": "e61fa62c",
   "metadata": {},
   "outputs": [],
   "source": [
    "response"
   ]
  },
  {
   "cell_type": "code",
   "execution_count": null,
   "id": "c2c71267",
   "metadata": {},
   "outputs": [],
   "source": [
    "ssl_enabled"
   ]
  },
  {
   "cell_type": "code",
   "execution_count": null,
   "id": "101b611d",
   "metadata": {},
   "outputs": [],
   "source": [
    "def check_website(url):\n",
    "    try:\n",
    "        response = requests.get(url, timeout=10)\n",
    "        ssl_enabled = response.url.startswith('https://')\n",
    "        return response.status_code, ssl_enabled\n",
    "    except requests.exceptions.RequestException:\n",
    "        return None, None"
   ]
  },
  {
   "cell_type": "code",
   "execution_count": null,
   "id": "1fec1c94",
   "metadata": {},
   "outputs": [],
   "source": []
  },
  {
   "cell_type": "code",
   "execution_count": null,
   "id": "3bdaea65",
   "metadata": {},
   "outputs": [],
   "source": [
    "def send_line_notify(token, message):\n",
    "    auth = {'Authorization': f'Bearer {token}'}\n",
    "    content = {'message': message}\n",
    "    response = requests.post('https://notify-api.line.me/api/notify', headers=auth, data=content)\n",
    "    return response.status_code"
   ]
  },
  {
   "cell_type": "code",
   "execution_count": null,
   "id": "c276cac8",
   "metadata": {},
   "outputs": [],
   "source": [
    "def lambda_handler(event, context):\n",
    "    websites = [\"https://example1.com\", \"https://example2.com\"] # チェックするWebサイトのリスト\n",
    "    line_token = os.environ.get('LINE_NOTIFY_API_TOKEN') # Lambda環境変数からLINE Notify APIトークンを取得\n",
    "\n",
    "    for url in websites:\n",
    "        status_code, ssl_enabled = check_website(url)\n",
    "        if status_code is None:\n",
    "            message = f\"エラー: {url} がアクセスできません。\"\n",
    "        else:\n",
    "            message = f\"{url} のステータスコード: {status_code}、SSL: {'有効' if ssl_enabled else '無効'}\"\n",
    "\n",
    "        send_line_notify(line_token, message)\n",
    "\n",
    "    return {\n",
    "        'statusCode': 200,\n",
    "        'body': json.dumps('Webサイトのチェックが完了しました。')\n",
    "    }"
   ]
  },
  {
   "cell_type": "code",
   "execution_count": null,
   "id": "7d668fb2",
   "metadata": {},
   "outputs": [],
   "source": []
  },
  {
   "cell_type": "code",
   "execution_count": null,
   "id": "7eb532a6",
   "metadata": {},
   "outputs": [],
   "source": []
  },
  {
   "cell_type": "code",
   "execution_count": null,
   "id": "9386ed04",
   "metadata": {},
   "outputs": [],
   "source": []
  },
  {
   "cell_type": "code",
   "execution_count": null,
   "id": "c5386269",
   "metadata": {},
   "outputs": [],
   "source": []
  },
  {
   "cell_type": "code",
   "execution_count": null,
   "id": "63f99e33",
   "metadata": {},
   "outputs": [],
   "source": []
  },
  {
   "cell_type": "code",
   "execution_count": null,
   "id": "f4f7a317",
   "metadata": {},
   "outputs": [],
   "source": [
    "for url in urls:\n",
    "    try:\n",
    "        response = requests.get(url, timeout=10)\n",
    "        ssl_enabled = response.url.startswith('https://')\n",
    "        if response is None:\n",
    "            message = f\"エラー: {url} がアクセスできません。\"\n",
    "    except:\n",
    "        if response is None:\n",
    "            message = f\"エラー: {url} がアクセスできません。\"\n",
    "        print(url)\n",
    "        print(message)"
   ]
  },
  {
   "cell_type": "code",
   "execution_count": null,
   "id": "54175c97",
   "metadata": {},
   "outputs": [],
   "source": [
    "response"
   ]
  },
  {
   "cell_type": "code",
   "execution_count": null,
   "id": "a62ef5e5",
   "metadata": {},
   "outputs": [],
   "source": [
    "for url in urls:\n",
    "        if response is None:\n",
    "            message = f\"エラー: {url} がアクセスできません。\"\n",
    "        else:\n",
    "            message = f\"{url} のステータスコード: {responsese}、SSL: {'有効' if ssl_enabled else '無効'}\"\n",
    "            auth = {\"Authorization\":\"Bearer \"+line_token}\n",
    "            content = {\"message\": message}\n",
    "            response = requests.post('https://notify-api.line.me/api/notify', headers=auth, data=content)"
   ]
  },
  {
   "cell_type": "code",
   "execution_count": null,
   "id": "f0f9247c",
   "metadata": {},
   "outputs": [],
   "source": [
    "message"
   ]
  },
  {
   "cell_type": "code",
   "execution_count": null,
   "id": "97b3461e",
   "metadata": {},
   "outputs": [],
   "source": []
  },
  {
   "cell_type": "code",
   "execution_count": null,
   "id": "af5b0ead",
   "metadata": {},
   "outputs": [],
   "source": []
  },
  {
   "cell_type": "code",
   "execution_count": null,
   "id": "02d95a55",
   "metadata": {},
   "outputs": [],
   "source": []
  },
  {
   "cell_type": "code",
   "execution_count": null,
   "id": "19e8b02e",
   "metadata": {},
   "outputs": [],
   "source": [
    "def check_website(url):\n",
    "    try:\n",
    "        response = requests.get(url, timeout=10)\n",
    "        ssl_enabled = response.url.startswith('https://')\n",
    "        return response.status_code, ssl_enabled\n",
    "    except requests.exceptions.RequestException:\n",
    "        return None, None"
   ]
  },
  {
   "cell_type": "code",
   "execution_count": null,
   "id": "8ed188c1",
   "metadata": {},
   "outputs": [],
   "source": [
    "def lambda_handler(event, context):\n",
    "    for url in urls:\n",
    "        status_code, ssl_enabled = check_website(url)\n",
    "        if status_code is None:\n",
    "            message = f\"エラー: {url} がアクセスできません。\"\n",
    "        else:\n",
    "            message = f\"{url} のステータスコード: {status_code}、SSL: {'有効' if ssl_enabled else '無効'}\"\n",
    "            line_notify(line_token, message)\n",
    "    return {\n",
    "        'statusCode': 200,\n",
    "        'body': json.dumps('Webサイトのチェックが完了しました。')\n",
    "    }"
   ]
  },
  {
   "cell_type": "code",
   "execution_count": null,
   "id": "4cbfdc9b",
   "metadata": {},
   "outputs": [],
   "source": [
    "def line_notify(line_token, message):\n",
    "    auth = {\"Authorization\":\"Bearer \"+line_token}\n",
    "    content = {\"message\": message}\n",
    "    response = requests.post('https://notify-api.line.me/api/notify', headers=auth, data=content)\n",
    "    return response.status_code"
   ]
  },
  {
   "cell_type": "code",
   "execution_count": null,
   "id": "4f1d3b87",
   "metadata": {},
   "outputs": [],
   "source": [
    "line_notify"
   ]
  },
  {
   "cell_type": "code",
   "execution_count": null,
   "id": "aa18493b",
   "metadata": {},
   "outputs": [],
   "source": []
  },
  {
   "cell_type": "code",
   "execution_count": null,
   "id": "d09ca1d8",
   "metadata": {},
   "outputs": [],
   "source": []
  },
  {
   "cell_type": "code",
   "execution_count": null,
   "id": "1e1f8add",
   "metadata": {},
   "outputs": [],
   "source": []
  },
  {
   "cell_type": "code",
   "execution_count": null,
   "id": "5cc21519",
   "metadata": {},
   "outputs": [],
   "source": []
  },
  {
   "cell_type": "code",
   "execution_count": null,
   "id": "7e49b823",
   "metadata": {},
   "outputs": [],
   "source": []
  },
  {
   "cell_type": "code",
   "execution_count": null,
   "id": "4e8b7aa3",
   "metadata": {},
   "outputs": [],
   "source": []
  },
  {
   "cell_type": "code",
   "execution_count": null,
   "id": "976f8727",
   "metadata": {},
   "outputs": [],
   "source": []
  },
  {
   "cell_type": "code",
   "execution_count": null,
   "id": "0cac898f",
   "metadata": {},
   "outputs": [],
   "source": []
  },
  {
   "cell_type": "code",
   "execution_count": null,
   "id": "3222e762",
   "metadata": {},
   "outputs": [],
   "source": []
  },
  {
   "cell_type": "code",
   "execution_count": null,
   "id": "9b10df1d",
   "metadata": {},
   "outputs": [],
   "source": []
  },
  {
   "cell_type": "code",
   "execution_count": null,
   "id": "fb661084",
   "metadata": {},
   "outputs": [],
   "source": []
  }
 ],
 "metadata": {
  "kernelspec": {
   "display_name": "Python 3 (ipykernel)",
   "language": "python",
   "name": "python3"
  },
  "language_info": {
   "codemirror_mode": {
    "name": "ipython",
    "version": 3
   },
   "file_extension": ".py",
   "mimetype": "text/x-python",
   "name": "python",
   "nbconvert_exporter": "python",
   "pygments_lexer": "ipython3",
   "version": "3.11.2"
  }
 },
 "nbformat": 4,
 "nbformat_minor": 5
}
